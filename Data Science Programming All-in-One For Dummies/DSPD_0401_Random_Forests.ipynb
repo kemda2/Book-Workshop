{
 "cells": [
  {
   "cell_type": "markdown",
   "metadata": {},
   "source": [
    "# Leveraging Decision Trees"
   ]
  },
  {
   "cell_type": "markdown",
   "metadata": {},
   "source": [
    "## Seeing Random Forests in action"
   ]
  },
  {
   "cell_type": "code",
   "execution_count": 1,
   "metadata": {},
   "outputs": [],
   "source": [
    "import numpy as np\n",
    "from sklearn import datasets\n",
    "from sklearn.model_selection import validation_curve\n",
    "from sklearn.ensemble import RandomForestClassifier\n",
    "\n",
    "digits = datasets.load_digits()\n",
    "X,y = digits.data, digits.target\n",
    "series = [10, 25, 50, 100, 150, 200, 250, 300]\n",
    "RF = RandomForestClassifier(random_state=101)\n",
    "train_scores, test_scores = validation_curve(RF, \n",
    "        X, y, 'n_estimators', param_range=series,\n",
    "            cv=10, scoring='accuracy',n_jobs=-1)"
   ]
  },
  {
   "cell_type": "code",
   "execution_count": 2,
   "metadata": {},
   "outputs": [
    {
     "data": {
      "image/png": "[encoded data removed]",
      "text/plain": [
       "<Figure size 432x288 with 1 Axes>"
      ]
     },
     "metadata": {},
     "output_type": "display_data"
    }
   ],
   "source": [
    "import matplotlib.pyplot as plt\n",
    "%matplotlib inline\n",
    "plt.figure()\n",
    "plt.plot(series, np.mean(test_scores,axis=1), '-o') \n",
    "plt.xlabel('number of trees')\n",
    "plt.ylabel('accuracy')\n",
    "plt.grid()\n",
    "plt.show()"
   ]
  },
  {
   "cell_type": "markdown",
   "metadata": {},
   "source": [
    "## Seeing importance measures in action"
   ]
  },
  {
   "cell_type": "code",
   "execution_count": 3,
   "metadata": {},
   "outputs": [],
   "source": [
    "import pandas as pd\n",
    "from sklearn.datasets import load_boston\n",
    "from sklearn.model_selection import train_test_split\n",
    "\n",
    "boston = load_boston()\n",
    "\n",
    "y = boston.target\n",
    "X = pd.DataFrame(boston.data, columns = \n",
    "                 boston.feature_names)\n",
    "X_train, X_valid, y_train, y_valid = train_test_split(\n",
    "    X, y, test_size = 0.8, random_state = 123)"
   ]
  },
  {
   "cell_type": "code",
   "execution_count": 4,
   "metadata": {},
   "outputs": [
    {
     "name": "stdout",
     "output_type": "stream",
     "text": [
      "R^2 Training Score:  0.9620949187819494\n",
      "OOB Score:  0.7093667260280889\n",
      "R^2 Validation Score:  0.8239084223508335\n"
     ]
    }
   ],
   "source": [
    "from sklearn.ensemble import RandomForestRegressor\n",
    "\n",
    "rf = RandomForestRegressor(n_estimators = 100,\n",
    "                           n_jobs = -1,\n",
    "                           oob_score = True,\n",
    "                           bootstrap = True,\n",
    "                           random_state = 123)\n",
    "rf.fit(X_train, y_train)\n",
    "\n",
    "print('R^2 Training Score: ', rf.score(X_train, y_train))\n",
    "print('OOB Score: ', rf.oob_score_)\n",
    "print('R^2 Validation Score: ', rf.score(X_valid, y_valid))"
   ]
  },
  {
   "cell_type": "code",
   "execution_count": 5,
   "metadata": {},
   "outputs": [
    {
     "name": "stdout",
     "output_type": "stream",
     "text": [
      "         Importance\n",
      "Feature            \n",
      "RM         0.819851\n",
      "LSTAT      0.553908\n",
      "DIS        0.060464\n",
      "CRIM       0.046930\n",
      "NOX        0.020097\n",
      "TAX        0.018109\n",
      "AGE        0.014672\n",
      "PTRATIO    0.010275\n",
      "B          0.009487\n",
      "RAD        0.009275\n",
      "INDUS      0.002886\n",
      "ZN         0.000777\n",
      "CHAS       0.000142\n"
     ]
    }
   ],
   "source": [
    "from sklearn.metrics import r2_score\n",
    "from rfpimp import permutation_importances\n",
    "\n",
    "def r2(rf, X_train, y_train):\n",
    "    return r2_score(y_train, rf.predict(X_train))\n",
    "\n",
    "perm_imp = permutation_importances(\n",
    "    rf, X_train, y_train, r2)\n",
    "print(perm_imp)"
   ]
  },
  {
   "cell_type": "markdown",
   "metadata": {},
   "source": [
    "# Working with Almost Random Guesses"
   ]
  },
  {
   "cell_type": "markdown",
   "metadata": {},
   "source": [
    "## Bagging Predictors with AdaBoost"
   ]
  },
  {
   "cell_type": "markdown",
   "metadata": {},
   "source": [
    "### Seeing AdaBoost in action"
   ]
  },
  {
   "cell_type": "code",
   "execution_count": 6,
   "metadata": {},
   "outputs": [],
   "source": [
    "import numpy as np\n",
    "from sklearn.ensemble import AdaBoostClassifier\n",
    "from sklearn.tree import DecisionTreeClassifier\n",
    "from sklearn.linear_model import Perceptron\n",
    "from sklearn.naive_bayes import BernoulliNB\n",
    "from sklearn.model_selection import cross_val_score\n",
    "from sklearn import datasets\n",
    "\n",
    "digits = datasets.load_digits()\n",
    "X,y = digits.data, digits.target"
   ]
  },
  {
   "cell_type": "code",
   "execution_count": 7,
   "metadata": {},
   "outputs": [
    {
     "name": "stdout",
     "output_type": "stream",
     "text": [
      "Decision trees: 0.826\n",
      "Perceptron: 0.909\n",
      "Naive Bayes: 0.802\n"
     ]
    }
   ],
   "source": [
    "DT = cross_val_score(AdaBoostClassifier(\n",
    "        DecisionTreeClassifier(), \n",
    "        random_state=101) ,X, y, \n",
    "        scoring='accuracy',cv=10)\n",
    "P = cross_val_score(AdaBoostClassifier(\n",
    "        Perceptron(max_iter=5), random_state=101,\n",
    "        algorithm='SAMME') ,X, y, \n",
    "        scoring='accuracy',cv=10)\n",
    "NB = cross_val_score(AdaBoostClassifier(\n",
    "        BernoulliNB(), random_state=101)\n",
    "        ,X,y,scoring='accuracy',cv=10)\n",
    "\n",
    "print (\"Decision trees: %0.3f\\nPerceptron: %0.3f\\n\"\n",
    "       \"Naive Bayes: %0.3f\" % \n",
    "       (np.mean(DT),np.mean(P), np.mean(NB)))"
   ]
  },
  {
   "cell_type": "markdown",
   "metadata": {},
   "source": [
    "# Meeting Again with Gradient Descent"
   ]
  },
  {
   "cell_type": "markdown",
   "metadata": {},
   "source": [
    "## Seeing GBM in action"
   ]
  },
  {
   "cell_type": "code",
   "execution_count": 8,
   "metadata": {},
   "outputs": [],
   "source": [
    "import numpy as np\n",
    "from sklearn.ensemble import GradientBoostingClassifier\n",
    "from sklearn.model_selection import cross_val_score\n",
    "from sklearn import datasets\n",
    "\n",
    "digits = datasets.load_digits()\n",
    "X,y = digits.data, digits.target"
   ]
  },
  {
   "cell_type": "code",
   "execution_count": 9,
   "metadata": {},
   "outputs": [
    {
     "name": "stdout",
     "output_type": "stream",
     "text": [
      "GBM: 0.950\n"
     ]
    }
   ],
   "source": [
    "GBM = cross_val_score(\n",
    "    GradientBoostingClassifier(n_estimators=300, \n",
    "        subsample=0.8, max_depth=2, learning_rate=0.1,\n",
    "        random_state=101), X, y, scoring='accuracy',cv=10)\n",
    "\n",
    "print (\"GBM: %0.3f\" % (np.mean(GBM)))"
   ]
  },
  {
   "cell_type": "code",
   "execution_count": null,
   "metadata": {},
   "outputs": [],
   "source": []
  }
 ],
 "metadata": {
  "kernelspec": {
   "display_name": "Python 3",
   "language": "python",
   "name": "python3"
  },
  "language_info": {
   "codemirror_mode": {
    "name": "ipython",
    "version": 3
   },
   "file_extension": ".py",
   "mimetype": "text/x-python",
   "name": "python",
   "nbconvert_exporter": "python",
   "pygments_lexer": "ipython3",
   "version": "3.6.5"
  }
 },
 "nbformat": 4,
 "nbformat_minor": 2
}
