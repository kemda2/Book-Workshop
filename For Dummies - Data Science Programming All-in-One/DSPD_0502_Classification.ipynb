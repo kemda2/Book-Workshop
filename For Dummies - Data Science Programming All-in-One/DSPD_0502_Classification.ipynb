{
 "cells": [
  {
   "cell_type": "markdown",
   "metadata": {},
   "source": [
    "# Distinguishing Traffic Signs"
   ]
  },
  {
   "cell_type": "markdown",
   "metadata": {},
   "source": [
    "## Preparing image data"
   ]
  },
  {
   "cell_type": "code",
   "execution_count": 1,
   "metadata": {
    "colab": {},
    "colab_type": "code",
    "id": "570UTTOnZrie"
   },
   "outputs": [],
   "source": [
    "import numpy as np\n",
    "import zipfile\n",
    "import pprint\n",
    "\n",
    "from skimage.transform import resize\n",
    "from skimage.io import imread\n",
    "\n",
    "import matplotlib.pyplot as plt\n",
    "%matplotlib inline\n",
    "\n",
    "import warnings\n",
    "warnings.filterwarnings(\"ignore\")"
   ]
  },
  {
   "cell_type": "code",
   "execution_count": 2,
   "metadata": {
    "colab": {},
    "colab_type": "code",
    "id": "SQB_Z5rWboUK"
   },
   "outputs": [
    {
     "name": "stderr",
     "output_type": "stream",
     "text": [
      "Using TensorFlow backend.\n"
     ]
    }
   ],
   "source": [
    "from keras.models import Sequential\n",
    "from keras.optimizers import Adam\n",
    "from keras.preprocessing.image import ImageDataGenerator \n",
    "from keras.utils import to_categorical\n",
    "from keras.layers import Conv2D, MaxPooling2D\n",
    "from keras.layers import (Flatten, Dense, Dropout)"
   ]
  },
  {
   "cell_type": "code",
   "execution_count": 3,
   "metadata": {
    "colab": {
     "base_uri": "https://localhost:8080/",
     "height": 51
    },
    "colab_type": "code",
    "id": "_UNEK_X2ZP5P",
    "outputId": "d81d91a0-c480-49f5-ac8a-01d2a5a1641a"
   },
   "outputs": [],
   "source": [
    "import urllib.request\n",
    "import os.path\n",
    "if not os.path.exists(\"GTSRB_Final_Training_Images.zip\"):\n",
    "    url = \"https://sid.erda.dk/public/archives/\\\n",
    "    daaeac0d7ce1152aea9b61d9f1e19370/\\\n",
    "    GTSRB_Final_Training_Images.zip\"\n",
    "    filename = \"./GTSRB_Final_Training_Images.zip\"\n",
    "    urllib.request.urlretrieve(url, filename)"
   ]
  },
  {
   "cell_type": "code",
   "execution_count": 4,
   "metadata": {
    "colab": {},
    "colab_type": "code",
    "id": "VUiHtNGJsBuT"
   },
   "outputs": [],
   "source": [
    "IMG_SIZE = 32\n",
    "TEST_SIZE = 0.2"
   ]
  },
  {
   "cell_type": "code",
   "execution_count": null,
   "metadata": {
    "colab": {},
    "colab_type": "code",
    "id": "pJJ8P5d2I1cF"
   },
   "outputs": [],
   "source": [
    "X, Xt, y, yt = list(), list(), list(), list()\n",
    "\n",
    "archive = zipfile.ZipFile(\n",
    "          'GTSRB_Final_Training_Images.zip', 'r')\n",
    "file_paths = [file for file in archive.namelist() \n",
    "              if '.ppm' in file]\n",
    "\n",
    "for filename in file_paths:\n",
    "    img = imread(archive.open(filename))\n",
    "    img = resize(img, \n",
    "                 output_shape=(IMG_SIZE, IMG_SIZE),\n",
    "                 mode='reflect')\n",
    "    img_class = int(filename.split('/')[-2])\n",
    "    \n",
    "    if (hash(filename) % 1000) / 1000 > TEST_SIZE:\n",
    "        X.append(img)\n",
    "        y.append(img_class)\n",
    "    else:\n",
    "        Xt.append(img)\n",
    "        yt.append(img_class)\n",
    "\n",
    "archive.close()"
   ]
  },
  {
   "cell_type": "code",
   "execution_count": null,
   "metadata": {
    "colab": {
     "base_uri": "https://localhost:8080/",
     "height": 34
    },
    "colab_type": "code",
    "id": "5KZsP3GIZ6AI",
    "outputId": "f0e97ce2-49f3-4937-a6d4-216a7822e055"
   },
   "outputs": [],
   "source": [
    "test_ratio = len(Xt) / len(file_paths)\n",
    "print(\"Train size:{} test size:{} ({:0.3f})\".format(len(X), \n",
    "                len(Xt), \n",
    "                test_ratio))"
   ]
  },
  {
   "cell_type": "code",
   "execution_count": null,
   "metadata": {
    "colab": {
     "base_uri": "https://localhost:8080/",
     "height": 282
    },
    "colab_type": "code",
    "id": "AeVvZi61s87C",
    "outputId": "4c57b5cf-c304-4d09-a786-5472dafaaa9f"
   },
   "outputs": [],
   "source": [
    "classes, dist = np.unique(y+yt, return_counts=True)\n",
    "NUM_CLASSES = len(classes)\n",
    "print (\"No classes:{}\".format(NUM_CLASSES))\n",
    "\n",
    "plt.bar(classes, dist, align='center', alpha=0.5)\n",
    "plt.show()"
   ]
  },
  {
   "cell_type": "code",
   "execution_count": null,
   "metadata": {
    "colab": {},
    "colab_type": "code",
    "id": "z0ULObCbxO97"
   },
   "outputs": [],
   "source": [
    "class_weight = {c:dist[c]/np.sum(dist) for c in classes}"
   ]
  },
  {
   "cell_type": "markdown",
   "metadata": {},
   "source": [
    "## Running a classification task"
   ]
  },
  {
   "cell_type": "code",
   "execution_count": null,
   "metadata": {
    "colab": {},
    "colab_type": "code",
    "id": "MW88y4HLbkpJ"
   },
   "outputs": [],
   "source": [
    "batch_size = 256\n",
    "tgen=ImageDataGenerator(rescale=1./255,\n",
    "                        rotation_range=5,\n",
    "                        width_shift_range=0.10, \n",
    "                        height_shift_range=0.10)\n",
    "\n",
    "train_gen = tgen.flow(np.array(X), \n",
    "                      to_categorical(y), \n",
    "                      batch_size=batch_size)"
   ]
  },
  {
   "cell_type": "code",
   "execution_count": null,
   "metadata": {
    "colab": {},
    "colab_type": "code",
    "id": "sSYl85NofHc7"
   },
   "outputs": [],
   "source": [
    "vgen=ImageDataGenerator(rescale=1./255)\n",
    "\n",
    "val_gen = vgen.flow(np.array(Xt), \n",
    "                    to_categorical(yt), \n",
    "                    batch_size=batch_size)"
   ]
  },
  {
   "cell_type": "code",
   "execution_count": null,
   "metadata": {
    "colab": {},
    "colab_type": "code",
    "id": "wP6BgtRib00-"
   },
   "outputs": [],
   "source": [
    "def small_cnn():\n",
    "    model = Sequential()\n",
    "    model.add(Conv2D(32, (5, 5), padding='same',\n",
    "                     input_shape=(IMG_SIZE, IMG_SIZE, 3),\n",
    "                     activation='relu'))\n",
    "    model.add(Conv2D(64, (5, 5), activation='relu'))   \n",
    "    model.add(Flatten())\n",
    "    model.add(Dense(768, activation='relu'))\n",
    "    model.add(Dropout(0.4))\n",
    "    model.add(Dense(NUM_CLASSES, activation='softmax'))\n",
    "    return model\n",
    "\n",
    "\n",
    "model = small_cnn()\n",
    "model.compile(loss='categorical_crossentropy', \n",
    "              optimizer=Adam(),\n",
    "              metrics=['accuracy'])"
   ]
  },
  {
   "cell_type": "code",
   "execution_count": null,
   "metadata": {
    "colab": {
     "base_uri": "https://localhost:8080/",
     "height": 3417
    },
    "colab_type": "code",
    "id": "vifoZNqpcU1z",
    "outputId": "c1d3ca16-8d81-4b4b-dde6-503e783a6f07"
   },
   "outputs": [],
   "source": [
    "history = model.fit_generator(train_gen,\n",
    "                              steps_per_epoch=len(X) // batch_size,\n",
    "                              validation_data=val_gen,\n",
    "                              validation_steps=len(Xt) // batch_size,\n",
    "                              class_weight=class_weight,\n",
    "                              epochs=100, \n",
    "                              verbose=2)"
   ]
  },
  {
   "cell_type": "code",
   "execution_count": null,
   "metadata": {
    "colab": {
     "base_uri": "https://localhost:8080/",
     "height": 34
    },
    "colab_type": "code",
    "id": "rQYvzGC5cuDU",
    "outputId": "8d069bde-50f4-4e9e-8407-00555333f39b"
   },
   "outputs": [],
   "source": [
    "print(\"Best validation accuracy: {:0.3f}\"\n",
    "       .format(np.max(history.history['val_acc'])))"
   ]
  },
  {
   "cell_type": "code",
   "execution_count": null,
   "metadata": {
    "colab": {
     "base_uri": "https://localhost:8080/",
     "height": 279
    },
    "colab_type": "code",
    "id": "iJeKTTOPq_Tl",
    "outputId": "5f41f9f4-9cc8-4f07-ea4d-0f1cfb19a6ab"
   },
   "outputs": [],
   "source": [
    "plt.plot(history.history['acc'])\n",
    "plt.plot(history.history['val_acc'])\n",
    "plt.ylabel('accuracy'); plt.xlabel('epochs')\n",
    "plt.legend(['train', 'test'], loc='lower right')\n",
    "plt.show()"
   ]
  }
 ],
 "metadata": {
  "accelerator": "GPU",
  "colab": {
   "collapsed_sections": [],
   "name": "German_traffic_sign_benchmark.ipynb",
   "provenance": [],
   "version": "0.3.2"
  },
  "kernelspec": {
   "display_name": "Python 3",
   "language": "python",
   "name": "python3"
  },
  "language_info": {
   "codemirror_mode": {
    "name": "ipython",
    "version": 3
   },
   "file_extension": ".py",
   "mimetype": "text/x-python",
   "name": "python",
   "nbconvert_exporter": "python",
   "pygments_lexer": "ipython3",
   "version": "3.6.8"
  }
 },
 "nbformat": 4,
 "nbformat_minor": 1
}
